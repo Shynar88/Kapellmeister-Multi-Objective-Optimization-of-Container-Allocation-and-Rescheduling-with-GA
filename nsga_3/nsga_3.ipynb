{
 "cells": [
  {
   "cell_type": "code",
   "execution_count": 1,
   "metadata": {},
   "outputs": [],
   "source": [
    "import numpy as np\n",
    "import matplotlib.pyplot as plt"
   ]
  },
  {
   "cell_type": "code",
   "execution_count": 2,
   "metadata": {},
   "outputs": [],
   "source": [
    "class Solution:\n",
    "    # one instance of problem solution\n",
    "    def __init__(self, value):\n",
    "        self.value = value\n",
    "        self.dominates = []\n",
    "        self.dominated_cardinal = 0\n",
    "        self.rank = None"
   ]
  },
  {
   "cell_type": "code",
   "execution_count": 100,
   "metadata": {},
   "outputs": [],
   "source": [
    "def visualize(population):\n",
    "    for s in population:\n",
    "        color = 'm'\n",
    "        if s.rank != None:\n",
    "            if s.rank % 3 == 1:\n",
    "                color = 'r'\n",
    "            elif s.rank % 3 == 2:\n",
    "                color = 'g'\n",
    "            else:\n",
    "                color = 'b'\n",
    "        plt.scatter(*s.value, c=color)\n",
    "\n",
    "    plt.show()"
   ]
  },
  {
   "cell_type": "code",
   "execution_count": 4,
   "metadata": {},
   "outputs": [],
   "source": [
    "def fast_non_dominated_sort(population):\n",
    "    '''\n",
    "    Accepts a list of Solutions, for each solution instance\n",
    "    modifies its rank according to the sorting result.\n",
    "    \n",
    "    Returns list of fronts, each of which is a list of\n",
    "    solutions. fronts[0] is the nondominated front.\n",
    "    '''\n",
    "    \n",
    "    fronts = []\n",
    "    fronts.append([])\n",
    "    \n",
    "    '''\n",
    "    For each solution, assign a list of solutions it dominates\n",
    "    to 'dominates' field. Assign a number of solutions that\n",
    "    dominate it to 'dominated_cardinal' field.\n",
    "    '''\n",
    "    for p in population:\n",
    "        for q in population:\n",
    "            domination = dominates(p,q)\n",
    "            if domination == 1:\n",
    "                p.dominates.append(q)\n",
    "            elif domination == -1:\n",
    "                p.dominated_cardinal += 1\n",
    "        if p.dominated_cardinal == 0:\n",
    "            p.rank = 1\n",
    "            fronts[0].append(p)\n",
    "    \n",
    "    '''\n",
    "    Peel fronts one by one, from nondominated to\n",
    "    the worst one.\n",
    "    '''\n",
    "    i = 0\n",
    "    while len(fronts[i]) != 0:\n",
    "        next_front = []\n",
    "        for p in fronts[i]:\n",
    "            for q in p.dominates:\n",
    "                q.dominated_cardinal -= 1\n",
    "                if q.dominated_cardinal == 0:\n",
    "                    q.rank = i + 2\n",
    "                    next_front.append(q)\n",
    "        i += 1\n",
    "        fronts.append(next_front)\n",
    "    \n",
    "    fronts.pop()\n",
    "    return fronts"
   ]
  },
  {
   "cell_type": "code",
   "execution_count": 5,
   "metadata": {},
   "outputs": [],
   "source": [
    "def dominates(p,q):\n",
    "    '''\n",
    "    Returns 1 if p dominates q, -1\n",
    "    if q dominates p, 0 otherwise.\n",
    "    '''\n",
    "    if p.value[0] >= q.value[0] and p.value[1] >= q.value[1]:\n",
    "        return 1\n",
    "    elif p.value[0] <= q.value[0] and p.value[1] <= q.value[1]:\n",
    "        return -1\n",
    "    else:\n",
    "        return 0"
   ]
  },
  {
   "cell_type": "code",
   "execution_count": 6,
   "metadata": {},
   "outputs": [
    {
     "name": "stdout",
     "output_type": "stream",
     "text": [
      "[[0.   1.  ]\n",
      " [0.25 0.75]\n",
      " [0.5  0.5 ]\n",
      " [0.75 0.25]\n",
      " [1.   0.  ]]\n"
     ]
    }
   ],
   "source": [
    "def get_reference_points(divisions):\n",
    "    '''\n",
    "    Generates a list of points that divide each\n",
    "    goal axis by specified number of divisions.\n",
    "    TODO: Extend to more then two axes.\n",
    "    '''\n",
    "    coords = np.zeros((divisions+1,))\n",
    "    coords[:divisions] = np.arange(0,1,1/divisions)\n",
    "    coords[divisions] = 1\n",
    "    return np.array([[x,y] for x,y in zip(coords,reversed(coords))])\n",
    "\n",
    "print(get_reference_points(4))"
   ]
  },
  {
   "cell_type": "code",
   "execution_count": 7,
   "metadata": {},
   "outputs": [],
   "source": [
    "def normalize(candidate_scores, nondom_scores):\n",
    "    '''\n",
    "    Normalizes scores if candidate solutions according\n",
    "    to NSGA-III specification.\n",
    "    '''\n",
    "    ideal_point = np.min(candidate_scores, axis=0)\n",
    "    \n",
    "    '''\n",
    "    This fragment is almost entirely copied from\n",
    "    official implementation by Deb and his students\n",
    "    since the paper itself is not very clear on this calculation.\n",
    "    \n",
    "    It basically finds solutions that are closest to each axis\n",
    "    among nondominated solutions. Resulting points are saved as\n",
    "    'maximum' points.\n",
    "    '''\n",
    "    weights = np.eye(candidate_scores.shape[1])\n",
    "    weights[weights==0] = 1e6\n",
    "    \n",
    "    asf = np.max(nondom_scores * weights[:,None,:], axis=2)\n",
    "    I = np.argmin(asf, axis=1)\n",
    "    \n",
    "    maximum = nondom_scores[I,:]\n",
    "    \n",
    "    '''\n",
    "    Find intercepts of a hyper plane generated by 'maximum'\n",
    "    points.\n",
    "    '''\n",
    "    points = maximum - ideal_point\n",
    "    b = np.ones(points.shape[1])\n",
    "    plane = np.linalg.solve(points, b)\n",
    "    intercepts = 1/plane\n",
    "    \n",
    "    return (candidate_scores - ideal_point)/intercepts"
   ]
  },
  {
   "cell_type": "code",
   "execution_count": 99,
   "metadata": {},
   "outputs": [
    {
     "data": {
      "image/png": "[encoded data removed]",
      "text/plain": [
       "<Figure size 432x288 with 1 Axes>"
      ]
     },
     "metadata": {
      "needs_background": "light"
     },
     "output_type": "display_data"
    }
   ],
   "source": [
    "# prepare test population\n",
    "popsize = 10\n",
    "values = np.random.random_sample((popsize,2))\n",
    "\n",
    "initial_population = []\n",
    "\n",
    "for v in values:\n",
    "    initial_population.append(Solution(v))\n",
    "\n",
    "visualize(initial_population)"
   ]
  },
  {
   "cell_type": "code",
   "execution_count": 9,
   "metadata": {},
   "outputs": [],
   "source": [
    "nondom = fast_non_dominated_sort(initial_population)"
   ]
  },
  {
   "cell_type": "code",
   "execution_count": 10,
   "metadata": {},
   "outputs": [
    {
     "data": {
      "image/png": "[encoded data removed]",
      "text/plain": [
       "<Figure size 432x288 with 1 Axes>"
      ]
     },
     "metadata": {
      "needs_background": "light"
     },
     "output_type": "display_data"
    }
   ],
   "source": [
    "visualize(initial_population)"
   ]
  },
  {
   "cell_type": "code",
   "execution_count": 11,
   "metadata": {},
   "outputs": [
    {
     "data": {
      "image/png": "[encoded data removed]",
      "text/plain": [
       "<Figure size 432x288 with 1 Axes>"
      ]
     },
     "metadata": {
      "needs_background": "light"
     },
     "output_type": "display_data"
    }
   ],
   "source": [
    "normalized_pop = normalize(np.array([s.value for s in initial_population]),\n",
    "          np.array([s.value for s in nondom[0]]))\n",
    "plt.scatter(normalized_pop[:,0], normalized_pop[:,1])\n",
    "plt.show()"
   ]
  },
  {
   "cell_type": "code",
   "execution_count": 12,
   "metadata": {},
   "outputs": [
    {
     "name": "stdout",
     "output_type": "stream",
     "text": [
      "[[0.   1.  ]\n",
      " [0.25 0.75]\n",
      " [0.5  0.5 ]\n",
      " [0.75 0.25]\n",
      " [1.   0.  ]]\n"
     ]
    },
    {
     "data": {
      "image/png": "[encoded data removed]",
      "text/plain": [
       "<Figure size 432x288 with 1 Axes>"
      ]
     },
     "metadata": {
      "needs_background": "light"
     },
     "output_type": "display_data"
    }
   ],
   "source": [
    "reference_points = get_reference_points(4)\n",
    "print(reference_points)\n",
    "for i, r in enumerate(reference_points):\n",
    "    if i%3 == 0:\n",
    "        c='r'\n",
    "    elif i%3 == 1:\n",
    "        c='g'\n",
    "    else:\n",
    "        c='b'\n",
    "    plt.plot([ 0, r[0]], [0, r[1]], c)\n",
    "visualize(initial_population)\n",
    "plt.show()"
   ]
  },
  {
   "cell_type": "code",
   "execution_count": 13,
   "metadata": {},
   "outputs": [
    {
     "name": "stdout",
     "output_type": "stream",
     "text": [
      "2.1213203435596424\n"
     ]
    }
   ],
   "source": [
    "p = np.array([2,1])\n",
    "v = np.array([1,1])\n",
    "v = v/np.sqrt(sum(v**2))\n",
    "print(p.dot(v))"
   ]
  },
  {
   "cell_type": "code",
   "execution_count": 36,
   "metadata": {},
   "outputs": [],
   "source": [
    "def associate(reference_points, candidate_scores):\n",
    "    '''\n",
    "    Associates each candidate with a closest line generated\n",
    "    by a reference point.\n",
    "    \n",
    "    Outputs two arrays:\n",
    "    'assoc_table' has the same number of rows as candidate_scores,\n",
    "        its first column contains reference point index and second - \n",
    "        distance to the line generated by it.\n",
    "    'ref_count' is a 1D array of same length as reference_points.\n",
    "        For each ref point it contains the number of associated\n",
    "        solutions.\n",
    "    '''\n",
    "    \n",
    "    dist_matrix = np.zeros((candidate_scores.shape[0], reference_points.shape[0]))\n",
    "    ref_count = np.zeros(reference_points.shape[0])\n",
    "    \n",
    "    '''\n",
    "    Calculate distance from each solution to each line.\n",
    "    TODO: Reimplement in C or Go\n",
    "    '''\n",
    "    for i, c in enumerate(candidate_scores):\n",
    "        for j, p in enumerate(reference_points):\n",
    "            diff_vector = c - p.dot(c) * p/np.sum(p**2)\n",
    "            dist_matrix[i,j] = np.sqrt(np.sum(diff_vector**2))\n",
    "            \n",
    "    assoc_table = np.zeros((candidate_scores.shape[0], 2))\n",
    "    assoc_table[:,0] = np.argmin(dist_matrix, axis=1)\n",
    "    assoc_table[:,1] = np.min(dist_matrix, axis=1)\n",
    "    \n",
    "    for a in assoc_table:\n",
    "        ref_count[np.int(a[0])] += 1\n",
    "    \n",
    "    return assoc_table, ref_count\n",
    "        \n",
    "    \n",
    "initial_coords = np.array([s.value for s in initial_population])\n",
    "assoc, ref_count = associate(reference_points, initial_coords)"
   ]
  },
  {
   "cell_type": "code",
   "execution_count": 37,
   "metadata": {},
   "outputs": [
    {
     "data": {
      "text/plain": [
       "(array([[3.00000000e+00, 7.78162418e-02],\n",
       "        [1.00000000e+00, 1.85045178e-03],\n",
       "        [2.00000000e+00, 8.02602174e-02],\n",
       "        [3.00000000e+00, 4.42658860e-02],\n",
       "        [4.00000000e+00, 4.48084538e-02],\n",
       "        [2.00000000e+00, 3.55475364e-02],\n",
       "        [1.00000000e+00, 6.95870903e-02],\n",
       "        [2.00000000e+00, 4.75777506e-02],\n",
       "        [0.00000000e+00, 1.17908563e-01],\n",
       "        [4.00000000e+00, 6.34046679e-02]]), array([1., 2., 3., 2., 2.]))"
      ]
     },
     "execution_count": 37,
     "metadata": {},
     "output_type": "execute_result"
    }
   ],
   "source": [
    "assoc, ref_count"
   ]
  },
  {
   "cell_type": "code",
   "execution_count": 25,
   "metadata": {},
   "outputs": [
    {
     "name": "stdout",
     "output_type": "stream",
     "text": [
      "[0.07781624 0.00185045 0.08026022 0.04426589 0.04480845 0.03554754\n",
      " 0.06958709 0.04757775 0.11790856 0.06340467]\n",
      "[3 1 2 3 4 2 1 2 0 4]\n"
     ]
    }
   ],
   "source": [
    "for "
   ]
  },
  {
   "cell_type": "code",
   "execution_count": 33,
   "metadata": {},
   "outputs": [
    {
     "data": {
      "image/png": "[encoded data removed]",
      "text/plain": [
       "<Figure size 432x288 with 1 Axes>"
      ]
     },
     "metadata": {
      "needs_background": "light"
     },
     "output_type": "display_data"
    }
   ],
   "source": [
    "for i, r in enumerate(reference_points):\n",
    "    if i%3 == 0:\n",
    "        c='r'\n",
    "    elif i%3 == 1:\n",
    "        c='g'\n",
    "    else:\n",
    "        c='b'\n",
    "    plt.plot([ 0, r[0]], [0, r[1]], c)\n",
    "    \n",
    "for i in range(assoc.shape[0]):\n",
    "    if assoc[i,0]%3 == 0:\n",
    "        c='r'\n",
    "    elif assoc[i,0]%3 == 1:\n",
    "        c='g'\n",
    "    else:\n",
    "        c='b'\n",
    "    plt.scatter(initial_coords[i,0], initial_coords[i,1], c=c)\n",
    "    \n",
    "plt.show()"
   ]
  },
  {
   "cell_type": "code",
   "execution_count": 88,
   "metadata": {},
   "outputs": [
    {
     "data": {
      "text/plain": [
       "[8]"
      ]
     },
     "execution_count": 88,
     "metadata": {},
     "output_type": "execute_result"
    }
   ],
   "source": [
    "def niche(ref_count, assoc, K):\n",
    "    out = []\n",
    "    \n",
    "    \n",
    "    k = 1\n",
    "    while k <= K:\n",
    "        J = np.argwhere(ref_count==np.min(ref_count)).T[0]\n",
    "        \n",
    "        j = np.random.choice(J)\n",
    "        I = np.argwhere(assoc[:,0]==j).T[0]\n",
    "        if I.shape[0] != 0:\n",
    "            out.append(np.random.choice(I))\n",
    "        \n",
    "        k+=1\n",
    "    return out\n",
    "\n",
    "niche(ref_count, assoc, 1)"
   ]
  },
  {
   "cell_type": "code",
   "execution_count": 63,
   "metadata": {},
   "outputs": [],
   "source": [
    "a = np.argwhere(ref_count[1:]==np.min(ref_count[1:])).T[0]"
   ]
  },
  {
   "cell_type": "code",
   "execution_count": 43,
   "metadata": {},
   "outputs": [
    {
     "name": "stdout",
     "output_type": "stream",
     "text": [
      "Help on function argwhere in module numpy:\n",
      "\n",
      "argwhere(a)\n",
      "    Find the indices of array elements that are non-zero, grouped by element.\n",
      "    \n",
      "    Parameters\n",
      "    ----------\n",
      "    a : array_like\n",
      "        Input data.\n",
      "    \n",
      "    Returns\n",
      "    -------\n",
      "    index_array : ndarray\n",
      "        Indices of elements that are non-zero. Indices are grouped by element.\n",
      "    \n",
      "    See Also\n",
      "    --------\n",
      "    where, nonzero\n",
      "    \n",
      "    Notes\n",
      "    -----\n",
      "    ``np.argwhere(a)`` is the same as ``np.transpose(np.nonzero(a))``.\n",
      "    \n",
      "    The output of ``argwhere`` is not suitable for indexing arrays.\n",
      "    For this purpose use ``nonzero(a)`` instead.\n",
      "    \n",
      "    Examples\n",
      "    --------\n",
      "    >>> x = np.arange(6).reshape(2,3)\n",
      "    >>> x\n",
      "    array([[0, 1, 2],\n",
      "           [3, 4, 5]])\n",
      "    >>> np.argwhere(x>1)\n",
      "    array([[0, 2],\n",
      "           [1, 0],\n",
      "           [1, 1],\n",
      "           [1, 2]])\n",
      "\n"
     ]
    }
   ],
   "source": [
    "help(np.argwhere)"
   ]
  },
  {
   "cell_type": "code",
   "execution_count": 76,
   "metadata": {},
   "outputs": [
    {
     "data": {
      "text/plain": [
       "3"
      ]
     },
     "execution_count": 76,
     "metadata": {},
     "output_type": "execute_result"
    }
   ],
   "source": [
    "np.random.choice(a)"
   ]
  },
  {
   "cell_type": "code",
   "execution_count": 79,
   "metadata": {},
   "outputs": [
    {
     "data": {
      "text/plain": [
       "array([[4, 9]])"
      ]
     },
     "execution_count": 79,
     "metadata": {},
     "output_type": "execute_result"
    }
   ],
   "source": []
  },
  {
   "cell_type": "code",
   "execution_count": null,
   "metadata": {},
   "outputs": [],
   "source": []
  }
 ],
 "metadata": {
  "kernelspec": {
   "display_name": "Python 3",
   "language": "python",
   "name": "python3"
  },
  "language_info": {
   "codemirror_mode": {
    "name": "ipython",
    "version": 3
   },
   "file_extension": ".py",
   "mimetype": "text/x-python",
   "name": "python",
   "nbconvert_exporter": "python",
   "pygments_lexer": "ipython3",
   "version": "3.7.4"
  }
 },
 "nbformat": 4,
 "nbformat_minor": 2
}
