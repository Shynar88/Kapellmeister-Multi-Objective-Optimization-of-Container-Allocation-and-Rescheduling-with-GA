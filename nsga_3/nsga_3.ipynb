{
 "cells": [
  {
   "cell_type": "code",
   "execution_count": 1,
   "metadata": {},
   "outputs": [],
   "source": [
    "import numpy as np\n",
    "import matplotlib.pyplot as plt"
   ]
  },
  {
   "cell_type": "code",
   "execution_count": 14,
   "metadata": {},
   "outputs": [],
   "source": [
    "class Solution:\n",
    "    # one instance of problem solution\n",
    "    def __init__(self, value):\n",
    "        self.value = value\n",
    "        self.dominates = []\n",
    "        self.dominated_cardinal = 0\n",
    "        self.rank = None"
   ]
  },
  {
   "cell_type": "code",
   "execution_count": 26,
   "metadata": {},
   "outputs": [],
   "source": [
    "def visualize(population):\n",
    "    for s in population:\n",
    "        color = 'm'\n",
    "        if s.rank != None:\n",
    "            if s.rank % 3 == 1:\n",
    "                color = 'r'\n",
    "            elif s.rank % 3 == 2:\n",
    "                color = 'g'\n",
    "            else:\n",
    "                color = 'b'\n",
    "        plt.scatter(*s.value, c=color)\n",
    "    plt.show()"
   ]
  },
  {
   "cell_type": "code",
   "execution_count": 83,
   "metadata": {},
   "outputs": [
    {
     "data": {
      "image/png": "[encoded data removed]",
      "text/plain": [
       "<Figure size 432x288 with 1 Axes>"
      ]
     },
     "metadata": {
      "needs_background": "light"
     },
     "output_type": "display_data"
    }
   ],
   "source": [
    "# prepare test population\n",
    "popsize = 10\n",
    "values = np.random.random_sample((popsize,2))\n",
    "\n",
    "initial_population = []\n",
    "\n",
    "for v in values:\n",
    "    initial_population.append(Solution(v))\n",
    "\n",
    "visualize(initial_population)"
   ]
  },
  {
   "cell_type": "code",
   "execution_count": 45,
   "metadata": {},
   "outputs": [],
   "source": [
    "def dominates(p,q):\n",
    "    # returns 1 if p dominates q, -1\n",
    "    # if q dominates p, 0 otherwise\n",
    "    if p.value[0] >= q.value[0] and p.value[1] >= q.value[1]:\n",
    "        return 1\n",
    "    elif p.value[0] <= q.value[0] and p.value[1] <= q.value[1]:\n",
    "        return -1\n",
    "    else:\n",
    "        return 0"
   ]
  },
  {
   "cell_type": "code",
   "execution_count": 46,
   "metadata": {},
   "outputs": [],
   "source": [
    "def fast_non_dominated_sort(population):\n",
    "    \n",
    "    fronts = []\n",
    "    fronts.append([])\n",
    "    \n",
    "    for p in population:\n",
    "        for q in population:\n",
    "            domination = dominates(p,q)\n",
    "            if domination == 1:\n",
    "                p.dominates.append(q)\n",
    "            elif domination == -1:\n",
    "                p.dominated_cardinal += 1\n",
    "        if p.dominated_cardinal == 0:\n",
    "            p.rank = 1\n",
    "            fronts[0].append(p)\n",
    "    \n",
    "    i = 0\n",
    "    while len(fronts[i]) != 0:\n",
    "        next_front = []\n",
    "        for p in fronts[i]:\n",
    "            for q in p.dominates:\n",
    "                q.dominated_cardinal -= 1\n",
    "                if q.dominated_cardinal == 0:\n",
    "                    q.rank = i + 2\n",
    "                    next_front.append(q)\n",
    "        i += 1\n",
    "        fronts.append(next_front)\n",
    "    \n",
    "    fronts.pop()\n",
    "    return fronts"
   ]
  },
  {
   "cell_type": "code",
   "execution_count": 85,
   "metadata": {},
   "outputs": [],
   "source": [
    "nondom = fast_non_dominated_sort(initial_population)"
   ]
  },
  {
   "cell_type": "code",
   "execution_count": 87,
   "metadata": {},
   "outputs": [
    {
     "data": {
      "image/png": "[encoded data removed]",
      "text/plain": [
       "<Figure size 432x288 with 1 Axes>"
      ]
     },
     "metadata": {
      "needs_background": "light"
     },
     "output_type": "display_data"
    }
   ],
   "source": [
    "visualize(initial_population)"
   ]
  },
  {
   "cell_type": "code",
   "execution_count": 75,
   "metadata": {},
   "outputs": [],
   "source": [
    "f1 = lambda solutions: [x.value[0] for x in solutions]\n",
    "f2 = lambda solutions: [x.value[1] for x in solutions]"
   ]
  },
  {
   "cell_type": "code",
   "execution_count": 72,
   "metadata": {},
   "outputs": [],
   "source": [
    "def get_reference_points(divisions):\n",
    "    coords = np.zeros((divisions+1,))\n",
    "    coords[:divisions] = np.arange(0,1,1/divisions)\n",
    "    coords[divisions] = 1\n",
    "    return [[x,y] for x,y in zip(coords,reversed(coords))]"
   ]
  },
  {
   "cell_type": "code",
   "execution_count": 73,
   "metadata": {},
   "outputs": [
    {
     "data": {
      "text/plain": [
       "[[0.0, 1.0], [0.25, 0.75], [0.5, 0.5], [0.75, 0.25], [1.0, 0.0]]"
      ]
     },
     "execution_count": 73,
     "metadata": {},
     "output_type": "execute_result"
    }
   ],
   "source": [
    "get_reference_points(4)"
   ]
  },
  {
   "cell_type": "code",
   "execution_count": 76,
   "metadata": {},
   "outputs": [],
   "source": [
    "def normalize(score_functions, candidates):\n",
    "    normalized_functions = []\n",
    "    for f in score_functions:\n",
    "         \n",
    "        for "
   ]
  },
  {
   "cell_type": "code",
   "execution_count": 97,
   "metadata": {},
   "outputs": [],
   "source": [
    "points = [s.value for s in nondom[0]]\n",
    "points = np.array(points)"
   ]
  },
  {
   "cell_type": "code",
   "execution_count": 98,
   "metadata": {},
   "outputs": [
    {
     "data": {
      "text/plain": [
       "array([[1.e+00, 1.e+06],\n",
       "       [1.e+06, 1.e+00]])"
      ]
     },
     "execution_count": 98,
     "metadata": {},
     "output_type": "execute_result"
    }
   ],
   "source": [
    "weights = np.eye(2)\n",
    "weights[weights==0] = 1e6\n",
    "weights"
   ]
  },
  {
   "cell_type": "code",
   "execution_count": 99,
   "metadata": {},
   "outputs": [
    {
     "data": {
      "text/plain": [
       "array([[0.71272308, 0.17180719],\n",
       "       [0.20045996, 0.8198595 ]])"
      ]
     },
     "execution_count": 99,
     "metadata": {},
     "output_type": "execute_result"
    }
   ],
   "source": [
    "asf = np.max(points * weights[:,None,:], axis=2)\n",
    "I = np.argmin(asf, axis=1)\n",
    "points[I,:]"
   ]
  },
  {
   "cell_type": "code",
   "execution_count": 105,
   "metadata": {},
   "outputs": [
    {
     "name": "stdout",
     "output_type": "stream",
     "text": [
      "[[[1.e+00 1.e+06]]\n",
      "\n",
      " [[1.e+06 1.e+00]]]\n",
      "[[0.20045996 0.8198595 ]\n",
      " [0.42097463 0.66178028]\n",
      " [0.71272308 0.17180719]\n",
      " [0.5203204  0.24363993]\n",
      " [0.31324361 0.67785879]]\n"
     ]
    }
   ],
   "source": [
    "print(weights[:,None,:])\n",
    "print(points)"
   ]
  },
  {
   "cell_type": "code",
   "execution_count": null,
   "metadata": {},
   "outputs": [],
   "source": []
  }
 ],
 "metadata": {
  "kernelspec": {
   "display_name": "Python 3",
   "language": "python",
   "name": "python3"
  },
  "language_info": {
   "codemirror_mode": {
    "name": "ipython",
    "version": 3
   },
   "file_extension": ".py",
   "mimetype": "text/x-python",
   "name": "python",
   "nbconvert_exporter": "python",
   "pygments_lexer": "ipython3",
   "version": "3.7.3"
  }
 },
 "nbformat": 4,
 "nbformat_minor": 2
}
